{
  "nbformat": 4,
  "nbformat_minor": 0,
  "metadata": {
    "colab": {
      "name": "python_22nd march.ipynb",
      "provenance": [],
      "authorship_tag": "ABX9TyN/j0GiSQZ1/NTcroR7uv34",
      "include_colab_link": true
    },
    "kernelspec": {
      "name": "python3",
      "display_name": "Python 3"
    },
    "language_info": {
      "name": "python"
    }
  },
  "cells": [
    {
      "cell_type": "markdown",
      "metadata": {
        "id": "view-in-github",
        "colab_type": "text"
      },
      "source": [
        "<a href=\"https://colab.research.google.com/github/LEELAKRISHNAMA/PYTHON_PRACTISE/blob/main/python_22nd_march.ipynb\" target=\"_parent\"><img src=\"https://colab.research.google.com/assets/colab-badge.svg\" alt=\"Open In Colab\"/></a>"
      ]
    },
    {
      "cell_type": "code",
      "execution_count": 1,
      "metadata": {
        "colab": {
          "base_uri": "https://localhost:8080/"
        },
        "id": "_ZWvvbABnj-2",
        "outputId": "9acdee59-a994-4aba-dabf-6172be4ff612"
      },
      "outputs": [
        {
          "output_type": "stream",
          "name": "stdout",
          "text": [
            "Enter a number: 5\n",
            "The factorial of 5 is 120\n"
          ]
        }
      ],
      "source": [
        "##Find factorial of a number\n",
        "num = int(input(\"Enter a number: \"))    \n",
        "factorial = 1    \n",
        "if num < 0:    \n",
        "   print(\" Factorial does not exist for negative numbers\")    \n",
        "elif num == 0:    \n",
        "   print(\"The factorial of 0 is 1\")    \n",
        "else:    \n",
        "   for i in range(1,num + 1):    \n",
        "       factorial = factorial*i    \n",
        "   print(\"The factorial of\",num,\"is\",factorial)   "
      ]
    },
    {
      "cell_type": "code",
      "source": [
        "##Find Roots of a Quadratic Equation\n",
        "a=int(input())\n",
        "b = int(input())\n",
        "c = int(input())\n",
        "d = (b**2) - (4*a*c)\n",
        "r1 = (-b-c*(d**1/2))/(2*a)\n",
        "r2 = (-b+c*(d**1/2))/(2*a)\n",
        "print(r1,r2)"
      ],
      "metadata": {
        "colab": {
          "base_uri": "https://localhost:8080/"
        },
        "id": "HsAbMTX9oBTd",
        "outputId": "2a2b566d-6e0e-4c8b-a8b8-a51db71ae711"
      },
      "execution_count": 2,
      "outputs": [
        {
          "output_type": "stream",
          "name": "stdout",
          "text": [
            "3\n",
            "4\n",
            "7\n",
            "39.0 -40.333333333333336\n"
          ]
        }
      ]
    },
    {
      "cell_type": "code",
      "source": [
        "##Check whether number is a palindrome or not\n",
        "num=int(input(\"Enter a number:\"))\n",
        "a=num\n",
        "rev=0\n",
        "while(num>0):\n",
        "    dig=num%10\n",
        "    rev=rev*10+dig\n",
        "    num=num//10\n",
        "if(a==rev):\n",
        "    print(\"The number is palindrome!\")\n",
        "else:\n",
        "    print(\"Not a palindrome!\")"
      ],
      "metadata": {
        "colab": {
          "base_uri": "https://localhost:8080/"
        },
        "id": "GyF7blOpoM6O",
        "outputId": "81c13f8b-dbde-4ced-e974-191a5b146df4"
      },
      "execution_count": 3,
      "outputs": [
        {
          "output_type": "stream",
          "name": "stdout",
          "text": [
            "Enter a number:10011001\n",
            "The number is palindrome!\n"
          ]
        }
      ]
    },
    {
      "cell_type": "code",
      "source": [
        "##Check whether number is perfect or not\n",
        "num=int(input(\"Enter a number:\"))\n",
        "sum=0\n",
        "for i in range(1, num):\n",
        "    if(num % i == 0):\n",
        "        sum = sum + i\n",
        "if (sum == num):\n",
        "    print(\"Perfect Number\")\n",
        "else:\n",
        "    print(\"not a Perfect Number\")"
      ],
      "metadata": {
        "colab": {
          "base_uri": "https://localhost:8080/"
        },
        "id": "5T3sdftwobgL",
        "outputId": "4bc90e94-d18a-43e5-b358-97644072fd34"
      },
      "execution_count": 4,
      "outputs": [
        {
          "output_type": "stream",
          "name": "stdout",
          "text": [
            "Enter a number:12\n",
            "not a Perfect Number\n"
          ]
        }
      ]
    },
    {
      "cell_type": "code",
      "source": [
        "## print pattern\n",
        "n=int(input())\n",
        "i=0\n",
        "while i < n :\n",
        "  i=i+1\n",
        "  print(i*\"*\")"
      ],
      "metadata": {
        "colab": {
          "base_uri": "https://localhost:8080/"
        },
        "id": "ZDGfa5X_ogpN",
        "outputId": "dd693512-1524-4654-c962-c329f6b4821d"
      },
      "execution_count": 5,
      "outputs": [
        {
          "output_type": "stream",
          "name": "stdout",
          "text": [
            "5\n",
            "*\n",
            "**\n",
            "***\n",
            "****\n",
            "*****\n"
          ]
        }
      ]
    }
  ]
}
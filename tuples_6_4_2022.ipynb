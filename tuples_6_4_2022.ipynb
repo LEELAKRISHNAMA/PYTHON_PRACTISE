{
  "nbformat": 4,
  "nbformat_minor": 0,
  "metadata": {
    "colab": {
      "name": "tuples 6/4/2022.ipynb",
      "provenance": [],
      "authorship_tag": "ABX9TyOMKeUlTgwXlqs1FbBsBIyy",
      "include_colab_link": true
    },
    "kernelspec": {
      "name": "python3",
      "display_name": "Python 3"
    },
    "language_info": {
      "name": "python"
    }
  },
  "cells": [
    {
      "cell_type": "markdown",
      "metadata": {
        "id": "view-in-github",
        "colab_type": "text"
      },
      "source": [
        "<a href=\"https://colab.research.google.com/github/LEELAKRISHNAMA/PYTHON_PRACTISE/blob/main/tuples_6_4_2022.ipynb\" target=\"_parent\"><img src=\"https://colab.research.google.com/assets/colab-badge.svg\" alt=\"Open In Colab\"/></a>"
      ]
    },
    {
      "cell_type": "code",
      "execution_count": 1,
      "metadata": {
        "colab": {
          "base_uri": "https://localhost:8080/"
        },
        "id": "Y3S1tbC379c_",
        "outputId": "fd667b64-9ad2-4d1c-ef93-c4b5473d86c6"
      },
      "outputs": [
        {
          "output_type": "stream",
          "name": "stdout",
          "text": [
            "191\n",
            "191\n",
            "193\n",
            "195\n",
            "197\n",
            "199\n"
          ]
        }
      ],
      "source": [
        " a=int(input())\n",
        "for i in range(a,200,2):\n",
        "  print(i)"
      ]
    },
    {
      "cell_type": "code",
      "source": [
        ""
      ],
      "metadata": {
        "id": "W8jvvj7VNeD0"
      },
      "execution_count": null,
      "outputs": []
    },
    {
      "cell_type": "markdown",
      "source": [
        "##tuples\n"
      ],
      "metadata": {
        "id": "MsNo4AvSNe3E"
      }
    },
    {
      "cell_type": "code",
      "source": [
        "a= (\"apple\", \"banana\", \"cherry\")\n",
        "print(a)\n",
        "print(len(a))\n",
        "b= (\"abc\", 34, True, 40, \"male\")\n",
        "print(b)\n",
        "print(a[0])\n",
        "print(a[-1])\n",
        "print(a[:2])\n",
        "y = list(a)\n",
        "y.remove(\"apple\")\n",
        "a = tuple(y)\n",
        "print(a+b)\n",
        "( yellow, red) = a\n",
        "print(yellow)\n",
        "print(red)\n"
      ],
      "metadata": {
        "colab": {
          "base_uri": "https://localhost:8080/"
        },
        "id": "NIDxYBWlNkMU",
        "outputId": "35f5df43-d239-4159-939f-e01021deab21"
      },
      "execution_count": 11,
      "outputs": [
        {
          "output_type": "stream",
          "name": "stdout",
          "text": [
            "('apple', 'banana', 'cherry')\n",
            "3\n",
            "('abc', 34, True, 40, 'male')\n",
            "apple\n",
            "cherry\n",
            "('apple', 'banana')\n",
            "('banana', 'cherry', 'abc', 34, True, 40, 'male')\n",
            "banana\n",
            "cherry\n"
          ]
        }
      ]
    }
  ]
}
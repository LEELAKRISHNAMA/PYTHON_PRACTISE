{
  "nbformat": 4,
  "nbformat_minor": 0,
  "metadata": {
    "colab": {
      "name": "23-03-22/Lists.ipynb",
      "provenance": [],
      "collapsed_sections": [],
      "authorship_tag": "ABX9TyPHETR5ciXGlOtVg76VleHi",
      "include_colab_link": true
    },
    "kernelspec": {
      "name": "python3",
      "display_name": "Python 3"
    },
    "language_info": {
      "name": "python"
    }
  },
  "cells": [
    {
      "cell_type": "markdown",
      "metadata": {
        "id": "view-in-github",
        "colab_type": "text"
      },
      "source": [
        "<a href=\"https://colab.research.google.com/github/LEELAKRISHNAMA/PYTHON_PRACTISE/blob/main/23_03_22_Lists.ipynb\" target=\"_parent\"><img src=\"https://colab.research.google.com/assets/colab-badge.svg\" alt=\"Open In Colab\"/></a>"
      ]
    },
    {
      "cell_type": "markdown",
      "source": [
        "## fruit names"
      ],
      "metadata": {
        "id": "ubv3ZqewxwL2"
      }
    },
    {
      "cell_type": "code",
      "execution_count": 1,
      "metadata": {
        "colab": {
          "base_uri": "https://localhost:8080/"
        },
        "id": "J6ThJMpuxpgw",
        "outputId": "590954c8-f1a3-43c6-deda-16746d51584d"
      },
      "outputs": [
        {
          "output_type": "stream",
          "name": "stdout",
          "text": [
            "['mango', 'apple', 'orange', 'pappaya', 'strawberry']\n",
            "strawberry\n",
            "strawberry\n",
            "['apple', 'orange', 'pappaya', 'strawberry']\n",
            "['orange', 'pappaya', 'strawberry']\n",
            "['mango', 'apple', 'orange']\n",
            "pappaya\n",
            "['mango', 'cherry', 'orange', 'pappaya', 'strawberry']\n",
            "['mango', 'cherry', 'orange', 'pappaya', 'strawberry', 'BlueBerry']\n",
            "6\n",
            "['mango', 'cherry', 'orange', 'pappaya', 'strawberry', 'BlueBerry', 'J', 'a', 'c', 'k', 'a', 'l', ' ', 'B', 'e', 'r', 'r', 'r', 'y', 'y']\n"
          ]
        }
      ],
      "source": [
        "fruit= ['mango', 'apple', 'orange', 'pappaya', 'strawberry']\n",
        "print(fruit[0:5])\n",
        "print(fruit[4])\n",
        "print(fruit[-1])\n",
        "print(fruit[-4:])\n",
        "print(fruit[2:])\n",
        "print(fruit[:3])\n",
        "print(fruit[3])\n",
        "fruit[1]='cherry'\n",
        "print(fruit[0:])\n",
        "fruit.append('BlueBerry')\n",
        "print(fruit[0:])\n",
        "print(len(fruit))\n",
        "fruit.extend('Jackal Berrryy')\n",
        "print(fruit[0:])\n"
      ]
    },
    {
      "cell_type": "markdown",
      "source": [
        "### appending & Inserting & reverse &Sort & pop"
      ],
      "metadata": {
        "id": "f90U8Gq5yErB"
      }
    },
    {
      "cell_type": "code",
      "source": [
        "fruit= ['mango', 'apple', 'orange', 'pappaya', 'strawberry']\n",
        "print(fruit)\n",
        "fruit.append('BlueBerry')\n",
        "print(fruit)\n",
        "fruit.insert(-2,'JackalBerry')\n",
        "print(fruit)\n",
        "(fruit.reverse())\n",
        "print(fruit)\n",
        "fruit.sort()\n",
        "print(fruit)\n",
        "fruit.pop(2)\n",
        "print(fruit)\n",
        "b=fruit.copy()\n",
        "print(b)\n",
        "b.clear()\n",
        "print(b)\n",
        "print(len(fruit))\n",
        "fruit.extend('kiwi')\n",
        "print(fruit)\n",
        "print(len(fruit))\n"
      ],
      "metadata": {
        "colab": {
          "base_uri": "https://localhost:8080/"
        },
        "id": "_LYmcP65x5Qy",
        "outputId": "198ac28f-7d29-4374-bb83-7eb2d8e0a0f1"
      },
      "execution_count": 2,
      "outputs": [
        {
          "output_type": "stream",
          "name": "stdout",
          "text": [
            "['mango', 'apple', 'orange', 'pappaya', 'strawberry']\n",
            "['mango', 'apple', 'orange', 'pappaya', 'strawberry', 'BlueBerry']\n",
            "['mango', 'apple', 'orange', 'pappaya', 'JackalBerry', 'strawberry', 'BlueBerry']\n",
            "['BlueBerry', 'strawberry', 'JackalBerry', 'pappaya', 'orange', 'apple', 'mango']\n",
            "['BlueBerry', 'JackalBerry', 'apple', 'mango', 'orange', 'pappaya', 'strawberry']\n",
            "['BlueBerry', 'JackalBerry', 'mango', 'orange', 'pappaya', 'strawberry']\n",
            "['BlueBerry', 'JackalBerry', 'mango', 'orange', 'pappaya', 'strawberry']\n",
            "[]\n",
            "6\n",
            "['BlueBerry', 'JackalBerry', 'mango', 'orange', 'pappaya', 'strawberry', 'k', 'i', 'w', 'i']\n",
            "10\n"
          ]
        }
      ]
    },
    {
      "cell_type": "markdown",
      "source": [
        "# numberrr"
      ],
      "metadata": {
        "id": "CqR_vc9zyLnf"
      }
    },
    {
      "cell_type": "code",
      "source": [
        "a=[33, 36, 69, 96]\n",
        "b=[336,341,280,325]\n",
        "print(a[2])\n",
        "print(a[0]+a[1])\n",
        "print(2*a[2]-(a[0]+a[1]))\n",
        "print(a+b)\n",
        "for i in range (0,4,3):\n",
        " print(a[i]+b[i])\n"
      ],
      "metadata": {
        "colab": {
          "base_uri": "https://localhost:8080/"
        },
        "id": "qO2aWVQzyQEM",
        "outputId": "c256ddb3-57b3-4590-eb43-3fb0ca5c69f6"
      },
      "execution_count": 3,
      "outputs": [
        {
          "output_type": "stream",
          "name": "stdout",
          "text": [
            "69\n",
            "69\n",
            "69\n",
            "[33, 36, 69, 96, 336, 341, 280, 325]\n",
            "369\n",
            "421\n"
          ]
        }
      ]
    }
  ]
}
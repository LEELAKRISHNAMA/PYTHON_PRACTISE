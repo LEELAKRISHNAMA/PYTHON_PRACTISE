{
  "nbformat": 4,
  "nbformat_minor": 0,
  "metadata": {
    "colab": {
      "name": "python_pratise.ipynb",
      "provenance": [],
      "authorship_tag": "ABX9TyME7x/TOsg4DvxMPizHk4eI",
      "include_colab_link": true
    },
    "kernelspec": {
      "name": "python3",
      "display_name": "Python 3"
    },
    "language_info": {
      "name": "python"
    }
  },
  "cells": [
    {
      "cell_type": "markdown",
      "metadata": {
        "id": "view-in-github",
        "colab_type": "text"
      },
      "source": [
        "<a href=\"https://colab.research.google.com/github/LEELAKRISHNAMA/PYTHON_PRACTISE/blob/main/python_pratise.ipynb\" target=\"_parent\"><img src=\"https://colab.research.google.com/assets/colab-badge.svg\" alt=\"Open In Colab\"/></a>"
      ]
    },
    {
      "cell_type": "code",
      "execution_count": null,
      "metadata": {
        "colab": {
          "base_uri": "https://localhost:8080/"
        },
        "id": "SkPM9eF0IZQ3",
        "outputId": "d53cb6c0-4645-4fb1-a844-7ab50ccc61fc"
      },
      "outputs": [
        {
          "output_type": "stream",
          "name": "stdout",
          "text": [
            "39380.0\n",
            "<class 'int'>\n",
            "<class 'float'>\n"
          ]
        }
      ],
      "source": [
        "a=63\n",
        "b=78634\n",
        "c=a+b/2\n",
        "print(c)\n",
        "print(type(b))\n",
        "print(type(c))"
      ]
    },
    {
      "cell_type": "code",
      "source": [
        "a=int(input(\"enter a no\"))\n",
        "b=int(input(\"enter a no\"))\n",
        "c=(a+b2)/2\n",
        "\n",
        "c\n",
        "\n"
      ],
      "metadata": {
        "colab": {
          "base_uri": "https://localhost:8080/"
        },
        "id": "lHe8pzHQKXiT",
        "outputId": "5ce9499a-91c5-48cf-f668-6ad17c74505a"
      },
      "execution_count": null,
      "outputs": [
        {
          "name": "stdout",
          "output_type": "stream",
          "text": [
            "enter a no2\n",
            "enter a no2\n"
          ]
        },
        {
          "output_type": "execute_result",
          "data": {
            "text/plain": [
              "2.0"
            ]
          },
          "metadata": {},
          "execution_count": 9
        }
      ]
    },
    {
      "cell_type": "markdown",
      "source": [
        "#vote\n",
        "a=int(input())\n",
        "if a>=18:\n",
        "  print(\"he can vote\")\n",
        "else:\n",
        "  print(\"he can't vote\")"
      ],
      "metadata": {
        "id": "OStBs7HcQ5Vb"
      }
    },
    {
      "cell_type": "markdown",
      "source": [
        "## find max of 3no.s\n",
        "a=int(input())\n",
        "b=int(input())\n",
        "c=int(input())\n",
        "if a>b & a>c:\n",
        "  print(\"a is max\")\n",
        "elif b>a&b>c:\n",
        "  print(\"b is max\")\n",
        "else:\n",
        "  print(c,\"is max\")  "
      ],
      "metadata": {
        "id": "c-gkfBoVRcnD"
      }
    },
    {
      "cell_type": "markdown",
      "source": [
        "##marks\n",
        "a=int(input())\n",
        "b=int(input())\n",
        "c=int(input())\n",
        "d=int(input())\n",
        "e=int(input())\n",
        "if (a>b & a>c & a>d & a>e):\n",
        "  print(\"a is max\")\n",
        "elif(b>a & b>c & b>d & b>e):\n",
        "  print(\"b is max\")\n",
        "elif (c>a & c>b & c>d & c>e):\n",
        "  print(\"c is max\")\n",
        "elif (d>a & d>b & d>c & d>e):\n",
        "  print(\"d is max\")\n",
        "else:\n",
        "  print(\"e is max\")"
      ],
      "metadata": {
        "id": "JbDxE0coSbCy"
      }
    },
    {
      "cell_type": "code",
      "source": [
        ""
      ],
      "metadata": {
        "id": "4uLcyhEucNuY"
      },
      "execution_count": null,
      "outputs": []
    },
    {
      "cell_type": "markdown",
      "source": [
        "##triangle\n",
        "a=int(input())\n",
        "b=int(input())\n",
        "c=int(input())\n",
        "if a==b or b==c or c==a:\n",
        "  print(\"iso\")\n",
        "else:\n",
        "  print(\"sca\")\n"
      ],
      "metadata": {
        "id": "WEL6BIr0TzN0"
      }
    },
    {
      "cell_type": "markdown",
      "source": [
        "## leap year\n",
        "y=int(input())\n",
        "if (y%4==0 & y%100!=0 & y%400==0):\n",
        "  print(\"leap\")\n",
        "else:\n",
        "  print(\"not leap\")"
      ],
      "metadata": {
        "id": "ufflZqPeaCmI"
      }
    },
    {
      "cell_type": "code",
      "source": [
        ""
      ],
      "metadata": {
        "id": "YxV2XMyLdZvY"
      },
      "execution_count": null,
      "outputs": []
    }
  ]
}